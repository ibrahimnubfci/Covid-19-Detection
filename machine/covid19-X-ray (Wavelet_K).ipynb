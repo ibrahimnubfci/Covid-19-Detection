{
 "cells": [
  {
   "cell_type": "markdown",
   "metadata": {},
   "source": [
    "### Data Exploration Analysis\n"
   ]
  },
  {
   "cell_type": "code",
   "execution_count": 1,
   "metadata": {},
   "outputs": [],
   "source": [
    "import pandas as pd\n",
    "import numpy as np\n",
    "import matplotlib.pyplot as plt\n",
    "import seaborn as sns\n",
    "from sklearn.preprocessing import MinMaxScaler\n",
    "from sklearn.decomposition import KernelPCA\n",
    "from sklearn import preprocessing"
   ]
  },
  {
   "cell_type": "code",
   "execution_count": 2,
   "metadata": {},
   "outputs": [
    {
     "data": {
      "text/html": [
       "<div>\n",
       "<style scoped>\n",
       "    .dataframe tbody tr th:only-of-type {\n",
       "        vertical-align: middle;\n",
       "    }\n",
       "\n",
       "    .dataframe tbody tr th {\n",
       "        vertical-align: top;\n",
       "    }\n",
       "\n",
       "    .dataframe thead th {\n",
       "        text-align: right;\n",
       "    }\n",
       "</style>\n",
       "<table border=\"1\" class=\"dataframe\">\n",
       "  <thead>\n",
       "    <tr style=\"text-align: right;\">\n",
       "      <th></th>\n",
       "      <th>Label</th>\n",
       "      <th>area_0</th>\n",
       "      <th>area_1</th>\n",
       "      <th>area_2</th>\n",
       "      <th>area_3</th>\n",
       "      <th>area_4</th>\n",
       "      <th>area_5</th>\n",
       "      <th>area_6</th>\n",
       "      <th>area_7</th>\n",
       "      <th>area_8</th>\n",
       "      <th>...</th>\n",
       "      <th>area_102</th>\n",
       "      <th>area_103</th>\n",
       "      <th>area_104</th>\n",
       "      <th>area_105</th>\n",
       "      <th>area_106</th>\n",
       "      <th>area_107</th>\n",
       "      <th>area_108</th>\n",
       "      <th>area_109</th>\n",
       "      <th>area_110</th>\n",
       "      <th>area_111</th>\n",
       "    </tr>\n",
       "  </thead>\n",
       "  <tbody>\n",
       "    <tr>\n",
       "      <th>0</th>\n",
       "      <td>normal</td>\n",
       "      <td>42026.13444</td>\n",
       "      <td>0.837992</td>\n",
       "      <td>0.680368</td>\n",
       "      <td>-0.046693</td>\n",
       "      <td>-1.768394</td>\n",
       "      <td>58432.45711</td>\n",
       "      <td>15.559444</td>\n",
       "      <td>2.089228</td>\n",
       "      <td>0.653725</td>\n",
       "      <td>...</td>\n",
       "      <td>17.391097</td>\n",
       "      <td>121.265112</td>\n",
       "      <td>13.974210</td>\n",
       "      <td>0.937043</td>\n",
       "      <td>0.035898</td>\n",
       "      <td>2.370000e-06</td>\n",
       "      <td>-0.787742</td>\n",
       "      <td>1.724785</td>\n",
       "      <td>0.086712</td>\n",
       "      <td>0.000062</td>\n",
       "    </tr>\n",
       "    <tr>\n",
       "      <th>1</th>\n",
       "      <td>normal</td>\n",
       "      <td>40953.90720</td>\n",
       "      <td>0.881848</td>\n",
       "      <td>0.596231</td>\n",
       "      <td>-0.469329</td>\n",
       "      <td>-1.440954</td>\n",
       "      <td>52624.47374</td>\n",
       "      <td>15.451862</td>\n",
       "      <td>2.054364</td>\n",
       "      <td>0.549743</td>\n",
       "      <td>...</td>\n",
       "      <td>18.240026</td>\n",
       "      <td>90.087976</td>\n",
       "      <td>13.814942</td>\n",
       "      <td>0.767752</td>\n",
       "      <td>0.034853</td>\n",
       "      <td>5.560000e-06</td>\n",
       "      <td>-0.684219</td>\n",
       "      <td>1.451970</td>\n",
       "      <td>0.078986</td>\n",
       "      <td>0.000069</td>\n",
       "    </tr>\n",
       "    <tr>\n",
       "      <th>2</th>\n",
       "      <td>normal</td>\n",
       "      <td>56557.81344</td>\n",
       "      <td>0.962359</td>\n",
       "      <td>0.448852</td>\n",
       "      <td>-0.693169</td>\n",
       "      <td>0.006798</td>\n",
       "      <td>66269.16155</td>\n",
       "      <td>15.502896</td>\n",
       "      <td>2.133265</td>\n",
       "      <td>0.349870</td>\n",
       "      <td>...</td>\n",
       "      <td>17.269445</td>\n",
       "      <td>48.388665</td>\n",
       "      <td>13.604552</td>\n",
       "      <td>0.531576</td>\n",
       "      <td>0.027222</td>\n",
       "      <td>-1.460000e-13</td>\n",
       "      <td>-0.664139</td>\n",
       "      <td>1.195714</td>\n",
       "      <td>0.053554</td>\n",
       "      <td>0.000371</td>\n",
       "    </tr>\n",
       "    <tr>\n",
       "      <th>3</th>\n",
       "      <td>normal</td>\n",
       "      <td>39446.13426</td>\n",
       "      <td>0.981931</td>\n",
       "      <td>0.655955</td>\n",
       "      <td>-0.406997</td>\n",
       "      <td>-1.252084</td>\n",
       "      <td>56018.46915</td>\n",
       "      <td>15.036336</td>\n",
       "      <td>2.200908</td>\n",
       "      <td>0.573151</td>\n",
       "      <td>...</td>\n",
       "      <td>13.255512</td>\n",
       "      <td>276.967530</td>\n",
       "      <td>13.334357</td>\n",
       "      <td>1.249678</td>\n",
       "      <td>0.066020</td>\n",
       "      <td>-3.910000e-15</td>\n",
       "      <td>-1.273933</td>\n",
       "      <td>2.523611</td>\n",
       "      <td>0.145711</td>\n",
       "      <td>0.000391</td>\n",
       "    </tr>\n",
       "    <tr>\n",
       "      <th>4</th>\n",
       "      <td>normal</td>\n",
       "      <td>34057.74479</td>\n",
       "      <td>0.697319</td>\n",
       "      <td>0.663547</td>\n",
       "      <td>0.195127</td>\n",
       "      <td>-1.751851</td>\n",
       "      <td>45253.55596</td>\n",
       "      <td>15.505998</td>\n",
       "      <td>2.164484</td>\n",
       "      <td>0.638541</td>\n",
       "      <td>...</td>\n",
       "      <td>20.416435</td>\n",
       "      <td>87.259274</td>\n",
       "      <td>13.984927</td>\n",
       "      <td>0.733262</td>\n",
       "      <td>0.029526</td>\n",
       "      <td>3.230000e-06</td>\n",
       "      <td>-0.662974</td>\n",
       "      <td>1.396236</td>\n",
       "      <td>0.073232</td>\n",
       "      <td>0.000062</td>\n",
       "    </tr>\n",
       "  </tbody>\n",
       "</table>\n",
       "<p>5 rows × 113 columns</p>\n",
       "</div>"
      ],
      "text/plain": [
       "    Label       area_0    area_1    area_2    area_3    area_4       area_5  \\\n",
       "0  normal  42026.13444  0.837992  0.680368 -0.046693 -1.768394  58432.45711   \n",
       "1  normal  40953.90720  0.881848  0.596231 -0.469329 -1.440954  52624.47374   \n",
       "2  normal  56557.81344  0.962359  0.448852 -0.693169  0.006798  66269.16155   \n",
       "3  normal  39446.13426  0.981931  0.655955 -0.406997 -1.252084  56018.46915   \n",
       "4  normal  34057.74479  0.697319  0.663547  0.195127 -1.751851  45253.55596   \n",
       "\n",
       "      area_6    area_7    area_8  ...   area_102    area_103   area_104  \\\n",
       "0  15.559444  2.089228  0.653725  ...  17.391097  121.265112  13.974210   \n",
       "1  15.451862  2.054364  0.549743  ...  18.240026   90.087976  13.814942   \n",
       "2  15.502896  2.133265  0.349870  ...  17.269445   48.388665  13.604552   \n",
       "3  15.036336  2.200908  0.573151  ...  13.255512  276.967530  13.334357   \n",
       "4  15.505998  2.164484  0.638541  ...  20.416435   87.259274  13.984927   \n",
       "\n",
       "   area_105  area_106      area_107  area_108  area_109  area_110  area_111  \n",
       "0  0.937043  0.035898  2.370000e-06 -0.787742  1.724785  0.086712  0.000062  \n",
       "1  0.767752  0.034853  5.560000e-06 -0.684219  1.451970  0.078986  0.000069  \n",
       "2  0.531576  0.027222 -1.460000e-13 -0.664139  1.195714  0.053554  0.000371  \n",
       "3  1.249678  0.066020 -3.910000e-15 -1.273933  2.523611  0.145711  0.000391  \n",
       "4  0.733262  0.029526  3.230000e-06 -0.662974  1.396236  0.073232  0.000062  \n",
       "\n",
       "[5 rows x 113 columns]"
      ]
     },
     "execution_count": 2,
     "metadata": {},
     "output_type": "execute_result"
    }
   ],
   "source": [
    "df = pd.read_csv(\"dataset1.csv\")\n",
    "df.head()"
   ]
  },
  {
   "cell_type": "code",
   "execution_count": 3,
   "metadata": {},
   "outputs": [
    {
     "data": {
      "text/html": [
       "<div>\n",
       "<style scoped>\n",
       "    .dataframe tbody tr th:only-of-type {\n",
       "        vertical-align: middle;\n",
       "    }\n",
       "\n",
       "    .dataframe tbody tr th {\n",
       "        vertical-align: top;\n",
       "    }\n",
       "\n",
       "    .dataframe thead th {\n",
       "        text-align: right;\n",
       "    }\n",
       "</style>\n",
       "<table border=\"1\" class=\"dataframe\">\n",
       "  <thead>\n",
       "    <tr style=\"text-align: right;\">\n",
       "      <th></th>\n",
       "      <th>Label</th>\n",
       "      <th>area_0</th>\n",
       "      <th>area_1</th>\n",
       "      <th>area_2</th>\n",
       "      <th>area_3</th>\n",
       "      <th>area_4</th>\n",
       "      <th>area_5</th>\n",
       "      <th>area_6</th>\n",
       "      <th>area_7</th>\n",
       "      <th>area_8</th>\n",
       "      <th>...</th>\n",
       "      <th>area_102</th>\n",
       "      <th>area_103</th>\n",
       "      <th>area_104</th>\n",
       "      <th>area_105</th>\n",
       "      <th>area_106</th>\n",
       "      <th>area_107</th>\n",
       "      <th>area_108</th>\n",
       "      <th>area_109</th>\n",
       "      <th>area_110</th>\n",
       "      <th>area_111</th>\n",
       "    </tr>\n",
       "  </thead>\n",
       "  <tbody>\n",
       "    <tr>\n",
       "      <th>0</th>\n",
       "      <td>False</td>\n",
       "      <td>False</td>\n",
       "      <td>False</td>\n",
       "      <td>False</td>\n",
       "      <td>False</td>\n",
       "      <td>False</td>\n",
       "      <td>False</td>\n",
       "      <td>False</td>\n",
       "      <td>False</td>\n",
       "      <td>False</td>\n",
       "      <td>...</td>\n",
       "      <td>False</td>\n",
       "      <td>False</td>\n",
       "      <td>False</td>\n",
       "      <td>False</td>\n",
       "      <td>False</td>\n",
       "      <td>False</td>\n",
       "      <td>False</td>\n",
       "      <td>False</td>\n",
       "      <td>False</td>\n",
       "      <td>False</td>\n",
       "    </tr>\n",
       "    <tr>\n",
       "      <th>1</th>\n",
       "      <td>False</td>\n",
       "      <td>False</td>\n",
       "      <td>False</td>\n",
       "      <td>False</td>\n",
       "      <td>False</td>\n",
       "      <td>False</td>\n",
       "      <td>False</td>\n",
       "      <td>False</td>\n",
       "      <td>False</td>\n",
       "      <td>False</td>\n",
       "      <td>...</td>\n",
       "      <td>False</td>\n",
       "      <td>False</td>\n",
       "      <td>False</td>\n",
       "      <td>False</td>\n",
       "      <td>False</td>\n",
       "      <td>False</td>\n",
       "      <td>False</td>\n",
       "      <td>False</td>\n",
       "      <td>False</td>\n",
       "      <td>False</td>\n",
       "    </tr>\n",
       "    <tr>\n",
       "      <th>2</th>\n",
       "      <td>False</td>\n",
       "      <td>False</td>\n",
       "      <td>False</td>\n",
       "      <td>False</td>\n",
       "      <td>False</td>\n",
       "      <td>False</td>\n",
       "      <td>False</td>\n",
       "      <td>False</td>\n",
       "      <td>False</td>\n",
       "      <td>False</td>\n",
       "      <td>...</td>\n",
       "      <td>False</td>\n",
       "      <td>False</td>\n",
       "      <td>False</td>\n",
       "      <td>False</td>\n",
       "      <td>False</td>\n",
       "      <td>False</td>\n",
       "      <td>False</td>\n",
       "      <td>False</td>\n",
       "      <td>False</td>\n",
       "      <td>False</td>\n",
       "    </tr>\n",
       "    <tr>\n",
       "      <th>3</th>\n",
       "      <td>False</td>\n",
       "      <td>False</td>\n",
       "      <td>False</td>\n",
       "      <td>False</td>\n",
       "      <td>False</td>\n",
       "      <td>False</td>\n",
       "      <td>False</td>\n",
       "      <td>False</td>\n",
       "      <td>False</td>\n",
       "      <td>False</td>\n",
       "      <td>...</td>\n",
       "      <td>False</td>\n",
       "      <td>False</td>\n",
       "      <td>False</td>\n",
       "      <td>False</td>\n",
       "      <td>False</td>\n",
       "      <td>False</td>\n",
       "      <td>False</td>\n",
       "      <td>False</td>\n",
       "      <td>False</td>\n",
       "      <td>False</td>\n",
       "    </tr>\n",
       "    <tr>\n",
       "      <th>4</th>\n",
       "      <td>False</td>\n",
       "      <td>False</td>\n",
       "      <td>False</td>\n",
       "      <td>False</td>\n",
       "      <td>False</td>\n",
       "      <td>False</td>\n",
       "      <td>False</td>\n",
       "      <td>False</td>\n",
       "      <td>False</td>\n",
       "      <td>False</td>\n",
       "      <td>...</td>\n",
       "      <td>False</td>\n",
       "      <td>False</td>\n",
       "      <td>False</td>\n",
       "      <td>False</td>\n",
       "      <td>False</td>\n",
       "      <td>False</td>\n",
       "      <td>False</td>\n",
       "      <td>False</td>\n",
       "      <td>False</td>\n",
       "      <td>False</td>\n",
       "    </tr>\n",
       "    <tr>\n",
       "      <th>...</th>\n",
       "      <td>...</td>\n",
       "      <td>...</td>\n",
       "      <td>...</td>\n",
       "      <td>...</td>\n",
       "      <td>...</td>\n",
       "      <td>...</td>\n",
       "      <td>...</td>\n",
       "      <td>...</td>\n",
       "      <td>...</td>\n",
       "      <td>...</td>\n",
       "      <td>...</td>\n",
       "      <td>...</td>\n",
       "      <td>...</td>\n",
       "      <td>...</td>\n",
       "      <td>...</td>\n",
       "      <td>...</td>\n",
       "      <td>...</td>\n",
       "      <td>...</td>\n",
       "      <td>...</td>\n",
       "      <td>...</td>\n",
       "      <td>...</td>\n",
       "    </tr>\n",
       "    <tr>\n",
       "      <th>679</th>\n",
       "      <td>False</td>\n",
       "      <td>False</td>\n",
       "      <td>False</td>\n",
       "      <td>False</td>\n",
       "      <td>False</td>\n",
       "      <td>False</td>\n",
       "      <td>False</td>\n",
       "      <td>False</td>\n",
       "      <td>False</td>\n",
       "      <td>False</td>\n",
       "      <td>...</td>\n",
       "      <td>False</td>\n",
       "      <td>False</td>\n",
       "      <td>False</td>\n",
       "      <td>False</td>\n",
       "      <td>False</td>\n",
       "      <td>False</td>\n",
       "      <td>False</td>\n",
       "      <td>False</td>\n",
       "      <td>False</td>\n",
       "      <td>False</td>\n",
       "    </tr>\n",
       "    <tr>\n",
       "      <th>680</th>\n",
       "      <td>False</td>\n",
       "      <td>False</td>\n",
       "      <td>False</td>\n",
       "      <td>False</td>\n",
       "      <td>False</td>\n",
       "      <td>False</td>\n",
       "      <td>False</td>\n",
       "      <td>False</td>\n",
       "      <td>False</td>\n",
       "      <td>False</td>\n",
       "      <td>...</td>\n",
       "      <td>False</td>\n",
       "      <td>False</td>\n",
       "      <td>False</td>\n",
       "      <td>False</td>\n",
       "      <td>False</td>\n",
       "      <td>False</td>\n",
       "      <td>False</td>\n",
       "      <td>False</td>\n",
       "      <td>False</td>\n",
       "      <td>False</td>\n",
       "    </tr>\n",
       "    <tr>\n",
       "      <th>681</th>\n",
       "      <td>False</td>\n",
       "      <td>False</td>\n",
       "      <td>False</td>\n",
       "      <td>False</td>\n",
       "      <td>False</td>\n",
       "      <td>False</td>\n",
       "      <td>False</td>\n",
       "      <td>False</td>\n",
       "      <td>False</td>\n",
       "      <td>False</td>\n",
       "      <td>...</td>\n",
       "      <td>False</td>\n",
       "      <td>False</td>\n",
       "      <td>False</td>\n",
       "      <td>False</td>\n",
       "      <td>False</td>\n",
       "      <td>False</td>\n",
       "      <td>False</td>\n",
       "      <td>False</td>\n",
       "      <td>False</td>\n",
       "      <td>False</td>\n",
       "    </tr>\n",
       "    <tr>\n",
       "      <th>682</th>\n",
       "      <td>False</td>\n",
       "      <td>False</td>\n",
       "      <td>False</td>\n",
       "      <td>False</td>\n",
       "      <td>False</td>\n",
       "      <td>False</td>\n",
       "      <td>False</td>\n",
       "      <td>False</td>\n",
       "      <td>False</td>\n",
       "      <td>False</td>\n",
       "      <td>...</td>\n",
       "      <td>False</td>\n",
       "      <td>False</td>\n",
       "      <td>False</td>\n",
       "      <td>False</td>\n",
       "      <td>False</td>\n",
       "      <td>False</td>\n",
       "      <td>False</td>\n",
       "      <td>False</td>\n",
       "      <td>False</td>\n",
       "      <td>False</td>\n",
       "    </tr>\n",
       "    <tr>\n",
       "      <th>683</th>\n",
       "      <td>False</td>\n",
       "      <td>False</td>\n",
       "      <td>False</td>\n",
       "      <td>False</td>\n",
       "      <td>False</td>\n",
       "      <td>False</td>\n",
       "      <td>False</td>\n",
       "      <td>False</td>\n",
       "      <td>False</td>\n",
       "      <td>False</td>\n",
       "      <td>...</td>\n",
       "      <td>False</td>\n",
       "      <td>False</td>\n",
       "      <td>False</td>\n",
       "      <td>False</td>\n",
       "      <td>False</td>\n",
       "      <td>False</td>\n",
       "      <td>False</td>\n",
       "      <td>False</td>\n",
       "      <td>False</td>\n",
       "      <td>False</td>\n",
       "    </tr>\n",
       "  </tbody>\n",
       "</table>\n",
       "<p>684 rows × 113 columns</p>\n",
       "</div>"
      ],
      "text/plain": [
       "     Label  area_0  area_1  area_2  area_3  area_4  area_5  area_6  area_7  \\\n",
       "0    False   False   False   False   False   False   False   False   False   \n",
       "1    False   False   False   False   False   False   False   False   False   \n",
       "2    False   False   False   False   False   False   False   False   False   \n",
       "3    False   False   False   False   False   False   False   False   False   \n",
       "4    False   False   False   False   False   False   False   False   False   \n",
       "..     ...     ...     ...     ...     ...     ...     ...     ...     ...   \n",
       "679  False   False   False   False   False   False   False   False   False   \n",
       "680  False   False   False   False   False   False   False   False   False   \n",
       "681  False   False   False   False   False   False   False   False   False   \n",
       "682  False   False   False   False   False   False   False   False   False   \n",
       "683  False   False   False   False   False   False   False   False   False   \n",
       "\n",
       "     area_8  ...  area_102  area_103  area_104  area_105  area_106  area_107  \\\n",
       "0     False  ...     False     False     False     False     False     False   \n",
       "1     False  ...     False     False     False     False     False     False   \n",
       "2     False  ...     False     False     False     False     False     False   \n",
       "3     False  ...     False     False     False     False     False     False   \n",
       "4     False  ...     False     False     False     False     False     False   \n",
       "..      ...  ...       ...       ...       ...       ...       ...       ...   \n",
       "679   False  ...     False     False     False     False     False     False   \n",
       "680   False  ...     False     False     False     False     False     False   \n",
       "681   False  ...     False     False     False     False     False     False   \n",
       "682   False  ...     False     False     False     False     False     False   \n",
       "683   False  ...     False     False     False     False     False     False   \n",
       "\n",
       "     area_108  area_109  area_110  area_111  \n",
       "0       False     False     False     False  \n",
       "1       False     False     False     False  \n",
       "2       False     False     False     False  \n",
       "3       False     False     False     False  \n",
       "4       False     False     False     False  \n",
       "..        ...       ...       ...       ...  \n",
       "679     False     False     False     False  \n",
       "680     False     False     False     False  \n",
       "681     False     False     False     False  \n",
       "682     False     False     False     False  \n",
       "683     False     False     False     False  \n",
       "\n",
       "[684 rows x 113 columns]"
      ]
     },
     "execution_count": 3,
     "metadata": {},
     "output_type": "execute_result"
    }
   ],
   "source": [
    "df.isnull()"
   ]
  },
  {
   "cell_type": "code",
   "execution_count": 4,
   "metadata": {},
   "outputs": [
    {
     "data": {
      "text/plain": [
       "<matplotlib.axes._subplots.AxesSubplot at 0x1edd86f22c8>"
      ]
     },
     "execution_count": 4,
     "metadata": {},
     "output_type": "execute_result"
    },
    {
     "data": {
      "image/png": "[encoded data removed]",
      "text/plain": [
       "<Figure size 432x288 with 1 Axes>"
      ]
     },
     "metadata": {
      "needs_background": "light"
     },
     "output_type": "display_data"
    }
   ],
   "source": [
    "sns.heatmap(df.isnull(),yticklabels=False,cbar=False,cmap='viridis')"
   ]
  },
  {
   "cell_type": "code",
   "execution_count": 5,
   "metadata": {},
   "outputs": [
    {
     "data": {
      "text/plain": [
       "(684, 113)"
      ]
     },
     "execution_count": 5,
     "metadata": {},
     "output_type": "execute_result"
    }
   ],
   "source": [
    "df.shape"
   ]
  },
  {
   "cell_type": "code",
   "execution_count": 6,
   "metadata": {},
   "outputs": [],
   "source": [
    "from sklearn.preprocessing import LabelEncoder\n",
    "le_Label =LabelEncoder()\n",
    "df['Output'] = le_Label.fit_transform(df['Label'])"
   ]
  },
  {
   "cell_type": "code",
   "execution_count": 7,
   "metadata": {},
   "outputs": [
    {
     "data": {
      "text/html": [
       "<div>\n",
       "<style scoped>\n",
       "    .dataframe tbody tr th:only-of-type {\n",
       "        vertical-align: middle;\n",
       "    }\n",
       "\n",
       "    .dataframe tbody tr th {\n",
       "        vertical-align: top;\n",
       "    }\n",
       "\n",
       "    .dataframe thead th {\n",
       "        text-align: right;\n",
       "    }\n",
       "</style>\n",
       "<table border=\"1\" class=\"dataframe\">\n",
       "  <thead>\n",
       "    <tr style=\"text-align: right;\">\n",
       "      <th></th>\n",
       "      <th>Label</th>\n",
       "      <th>area_0</th>\n",
       "      <th>area_1</th>\n",
       "      <th>area_2</th>\n",
       "      <th>area_3</th>\n",
       "      <th>area_4</th>\n",
       "      <th>area_5</th>\n",
       "      <th>area_6</th>\n",
       "      <th>area_7</th>\n",
       "      <th>area_8</th>\n",
       "      <th>...</th>\n",
       "      <th>area_103</th>\n",
       "      <th>area_104</th>\n",
       "      <th>area_105</th>\n",
       "      <th>area_106</th>\n",
       "      <th>area_107</th>\n",
       "      <th>area_108</th>\n",
       "      <th>area_109</th>\n",
       "      <th>area_110</th>\n",
       "      <th>area_111</th>\n",
       "      <th>Output</th>\n",
       "    </tr>\n",
       "  </thead>\n",
       "  <tbody>\n",
       "    <tr>\n",
       "      <th>0</th>\n",
       "      <td>normal</td>\n",
       "      <td>42026.13444</td>\n",
       "      <td>0.837992</td>\n",
       "      <td>0.680368</td>\n",
       "      <td>-0.046693</td>\n",
       "      <td>-1.768394</td>\n",
       "      <td>58432.45711</td>\n",
       "      <td>15.559444</td>\n",
       "      <td>2.089228</td>\n",
       "      <td>0.653725</td>\n",
       "      <td>...</td>\n",
       "      <td>121.265112</td>\n",
       "      <td>13.974210</td>\n",
       "      <td>0.937043</td>\n",
       "      <td>0.035898</td>\n",
       "      <td>2.370000e-06</td>\n",
       "      <td>-0.787742</td>\n",
       "      <td>1.724785</td>\n",
       "      <td>0.086712</td>\n",
       "      <td>0.000062</td>\n",
       "      <td>1</td>\n",
       "    </tr>\n",
       "    <tr>\n",
       "      <th>1</th>\n",
       "      <td>normal</td>\n",
       "      <td>40953.90720</td>\n",
       "      <td>0.881848</td>\n",
       "      <td>0.596231</td>\n",
       "      <td>-0.469329</td>\n",
       "      <td>-1.440954</td>\n",
       "      <td>52624.47374</td>\n",
       "      <td>15.451862</td>\n",
       "      <td>2.054364</td>\n",
       "      <td>0.549743</td>\n",
       "      <td>...</td>\n",
       "      <td>90.087976</td>\n",
       "      <td>13.814942</td>\n",
       "      <td>0.767752</td>\n",
       "      <td>0.034853</td>\n",
       "      <td>5.560000e-06</td>\n",
       "      <td>-0.684219</td>\n",
       "      <td>1.451970</td>\n",
       "      <td>0.078986</td>\n",
       "      <td>0.000069</td>\n",
       "      <td>1</td>\n",
       "    </tr>\n",
       "    <tr>\n",
       "      <th>2</th>\n",
       "      <td>normal</td>\n",
       "      <td>56557.81344</td>\n",
       "      <td>0.962359</td>\n",
       "      <td>0.448852</td>\n",
       "      <td>-0.693169</td>\n",
       "      <td>0.006798</td>\n",
       "      <td>66269.16155</td>\n",
       "      <td>15.502896</td>\n",
       "      <td>2.133265</td>\n",
       "      <td>0.349870</td>\n",
       "      <td>...</td>\n",
       "      <td>48.388665</td>\n",
       "      <td>13.604552</td>\n",
       "      <td>0.531576</td>\n",
       "      <td>0.027222</td>\n",
       "      <td>-1.460000e-13</td>\n",
       "      <td>-0.664139</td>\n",
       "      <td>1.195714</td>\n",
       "      <td>0.053554</td>\n",
       "      <td>0.000371</td>\n",
       "      <td>1</td>\n",
       "    </tr>\n",
       "    <tr>\n",
       "      <th>3</th>\n",
       "      <td>normal</td>\n",
       "      <td>39446.13426</td>\n",
       "      <td>0.981931</td>\n",
       "      <td>0.655955</td>\n",
       "      <td>-0.406997</td>\n",
       "      <td>-1.252084</td>\n",
       "      <td>56018.46915</td>\n",
       "      <td>15.036336</td>\n",
       "      <td>2.200908</td>\n",
       "      <td>0.573151</td>\n",
       "      <td>...</td>\n",
       "      <td>276.967530</td>\n",
       "      <td>13.334357</td>\n",
       "      <td>1.249678</td>\n",
       "      <td>0.066020</td>\n",
       "      <td>-3.910000e-15</td>\n",
       "      <td>-1.273933</td>\n",
       "      <td>2.523611</td>\n",
       "      <td>0.145711</td>\n",
       "      <td>0.000391</td>\n",
       "      <td>1</td>\n",
       "    </tr>\n",
       "    <tr>\n",
       "      <th>4</th>\n",
       "      <td>normal</td>\n",
       "      <td>34057.74479</td>\n",
       "      <td>0.697319</td>\n",
       "      <td>0.663547</td>\n",
       "      <td>0.195127</td>\n",
       "      <td>-1.751851</td>\n",
       "      <td>45253.55596</td>\n",
       "      <td>15.505998</td>\n",
       "      <td>2.164484</td>\n",
       "      <td>0.638541</td>\n",
       "      <td>...</td>\n",
       "      <td>87.259274</td>\n",
       "      <td>13.984927</td>\n",
       "      <td>0.733262</td>\n",
       "      <td>0.029526</td>\n",
       "      <td>3.230000e-06</td>\n",
       "      <td>-0.662974</td>\n",
       "      <td>1.396236</td>\n",
       "      <td>0.073232</td>\n",
       "      <td>0.000062</td>\n",
       "      <td>1</td>\n",
       "    </tr>\n",
       "    <tr>\n",
       "      <th>5</th>\n",
       "      <td>normal</td>\n",
       "      <td>49865.23168</td>\n",
       "      <td>1.111153</td>\n",
       "      <td>0.658072</td>\n",
       "      <td>-0.596918</td>\n",
       "      <td>-0.912582</td>\n",
       "      <td>74842.27097</td>\n",
       "      <td>15.092209</td>\n",
       "      <td>2.383023</td>\n",
       "      <td>0.557089</td>\n",
       "      <td>...</td>\n",
       "      <td>277.432751</td>\n",
       "      <td>13.414107</td>\n",
       "      <td>1.079650</td>\n",
       "      <td>0.061490</td>\n",
       "      <td>-3.640000e-15</td>\n",
       "      <td>-1.223753</td>\n",
       "      <td>2.303403</td>\n",
       "      <td>0.139678</td>\n",
       "      <td>0.000367</td>\n",
       "      <td>1</td>\n",
       "    </tr>\n",
       "    <tr>\n",
       "      <th>6</th>\n",
       "      <td>normal</td>\n",
       "      <td>38770.86386</td>\n",
       "      <td>0.941749</td>\n",
       "      <td>0.655675</td>\n",
       "      <td>-0.262501</td>\n",
       "      <td>-1.388371</td>\n",
       "      <td>54211.39660</td>\n",
       "      <td>15.105866</td>\n",
       "      <td>2.211260</td>\n",
       "      <td>0.581429</td>\n",
       "      <td>...</td>\n",
       "      <td>235.032308</td>\n",
       "      <td>13.374994</td>\n",
       "      <td>1.248555</td>\n",
       "      <td>0.059140</td>\n",
       "      <td>-3.910000e-15</td>\n",
       "      <td>-1.344502</td>\n",
       "      <td>2.593057</td>\n",
       "      <td>0.134912</td>\n",
       "      <td>0.000315</td>\n",
       "      <td>1</td>\n",
       "    </tr>\n",
       "    <tr>\n",
       "      <th>7</th>\n",
       "      <td>normal</td>\n",
       "      <td>43488.50811</td>\n",
       "      <td>0.917344</td>\n",
       "      <td>0.659089</td>\n",
       "      <td>-0.413405</td>\n",
       "      <td>-1.581987</td>\n",
       "      <td>60487.39489</td>\n",
       "      <td>15.464659</td>\n",
       "      <td>2.155900</td>\n",
       "      <td>0.618180</td>\n",
       "      <td>...</td>\n",
       "      <td>111.828498</td>\n",
       "      <td>13.930052</td>\n",
       "      <td>0.920173</td>\n",
       "      <td>0.035201</td>\n",
       "      <td>7.150000e-07</td>\n",
       "      <td>-0.812870</td>\n",
       "      <td>1.733044</td>\n",
       "      <td>0.084553</td>\n",
       "      <td>0.000064</td>\n",
       "      <td>1</td>\n",
       "    </tr>\n",
       "    <tr>\n",
       "      <th>8</th>\n",
       "      <td>normal</td>\n",
       "      <td>33543.26843</td>\n",
       "      <td>0.909969</td>\n",
       "      <td>0.675501</td>\n",
       "      <td>-0.218216</td>\n",
       "      <td>-1.416255</td>\n",
       "      <td>47343.50093</td>\n",
       "      <td>14.334596</td>\n",
       "      <td>2.300205</td>\n",
       "      <td>0.604931</td>\n",
       "      <td>...</td>\n",
       "      <td>299.444352</td>\n",
       "      <td>12.746416</td>\n",
       "      <td>1.474956</td>\n",
       "      <td>0.071376</td>\n",
       "      <td>-3.910000e-15</td>\n",
       "      <td>-1.238696</td>\n",
       "      <td>2.713652</td>\n",
       "      <td>0.152057</td>\n",
       "      <td>0.001101</td>\n",
       "      <td>1</td>\n",
       "    </tr>\n",
       "    <tr>\n",
       "      <th>9</th>\n",
       "      <td>normal</td>\n",
       "      <td>38147.05587</td>\n",
       "      <td>0.867610</td>\n",
       "      <td>0.574910</td>\n",
       "      <td>-0.545308</td>\n",
       "      <td>-1.381755</td>\n",
       "      <td>47629.12069</td>\n",
       "      <td>15.355763</td>\n",
       "      <td>2.237460</td>\n",
       "      <td>0.525079</td>\n",
       "      <td>...</td>\n",
       "      <td>71.981715</td>\n",
       "      <td>13.788932</td>\n",
       "      <td>1.104614</td>\n",
       "      <td>0.029261</td>\n",
       "      <td>1.210000e-08</td>\n",
       "      <td>-0.635057</td>\n",
       "      <td>1.739671</td>\n",
       "      <td>0.071183</td>\n",
       "      <td>0.000071</td>\n",
       "      <td>1</td>\n",
       "    </tr>\n",
       "  </tbody>\n",
       "</table>\n",
       "<p>10 rows × 114 columns</p>\n",
       "</div>"
      ],
      "text/plain": [
       "    Label       area_0    area_1    area_2    area_3    area_4       area_5  \\\n",
       "0  normal  42026.13444  0.837992  0.680368 -0.046693 -1.768394  58432.45711   \n",
       "1  normal  40953.90720  0.881848  0.596231 -0.469329 -1.440954  52624.47374   \n",
       "2  normal  56557.81344  0.962359  0.448852 -0.693169  0.006798  66269.16155   \n",
       "3  normal  39446.13426  0.981931  0.655955 -0.406997 -1.252084  56018.46915   \n",
       "4  normal  34057.74479  0.697319  0.663547  0.195127 -1.751851  45253.55596   \n",
       "5  normal  49865.23168  1.111153  0.658072 -0.596918 -0.912582  74842.27097   \n",
       "6  normal  38770.86386  0.941749  0.655675 -0.262501 -1.388371  54211.39660   \n",
       "7  normal  43488.50811  0.917344  0.659089 -0.413405 -1.581987  60487.39489   \n",
       "8  normal  33543.26843  0.909969  0.675501 -0.218216 -1.416255  47343.50093   \n",
       "9  normal  38147.05587  0.867610  0.574910 -0.545308 -1.381755  47629.12069   \n",
       "\n",
       "      area_6    area_7    area_8  ...    area_103   area_104  area_105  \\\n",
       "0  15.559444  2.089228  0.653725  ...  121.265112  13.974210  0.937043   \n",
       "1  15.451862  2.054364  0.549743  ...   90.087976  13.814942  0.767752   \n",
       "2  15.502896  2.133265  0.349870  ...   48.388665  13.604552  0.531576   \n",
       "3  15.036336  2.200908  0.573151  ...  276.967530  13.334357  1.249678   \n",
       "4  15.505998  2.164484  0.638541  ...   87.259274  13.984927  0.733262   \n",
       "5  15.092209  2.383023  0.557089  ...  277.432751  13.414107  1.079650   \n",
       "6  15.105866  2.211260  0.581429  ...  235.032308  13.374994  1.248555   \n",
       "7  15.464659  2.155900  0.618180  ...  111.828498  13.930052  0.920173   \n",
       "8  14.334596  2.300205  0.604931  ...  299.444352  12.746416  1.474956   \n",
       "9  15.355763  2.237460  0.525079  ...   71.981715  13.788932  1.104614   \n",
       "\n",
       "   area_106      area_107  area_108  area_109  area_110  area_111  Output  \n",
       "0  0.035898  2.370000e-06 -0.787742  1.724785  0.086712  0.000062       1  \n",
       "1  0.034853  5.560000e-06 -0.684219  1.451970  0.078986  0.000069       1  \n",
       "2  0.027222 -1.460000e-13 -0.664139  1.195714  0.053554  0.000371       1  \n",
       "3  0.066020 -3.910000e-15 -1.273933  2.523611  0.145711  0.000391       1  \n",
       "4  0.029526  3.230000e-06 -0.662974  1.396236  0.073232  0.000062       1  \n",
       "5  0.061490 -3.640000e-15 -1.223753  2.303403  0.139678  0.000367       1  \n",
       "6  0.059140 -3.910000e-15 -1.344502  2.593057  0.134912  0.000315       1  \n",
       "7  0.035201  7.150000e-07 -0.812870  1.733044  0.084553  0.000064       1  \n",
       "8  0.071376 -3.910000e-15 -1.238696  2.713652  0.152057  0.001101       1  \n",
       "9  0.029261  1.210000e-08 -0.635057  1.739671  0.071183  0.000071       1  \n",
       "\n",
       "[10 rows x 114 columns]"
      ]
     },
     "execution_count": 7,
     "metadata": {},
     "output_type": "execute_result"
    }
   ],
   "source": [
    "df.head(10)"
   ]
  },
  {
   "cell_type": "code",
   "execution_count": 8,
   "metadata": {},
   "outputs": [
    {
     "data": {
      "text/plain": [
       "<matplotlib.axes._subplots.AxesSubplot at 0x1edd86f2188>"
      ]
     },
     "execution_count": 8,
     "metadata": {},
     "output_type": "execute_result"
    },
    {
     "data": {
      "image/png": "[encoded data removed]",
      "text/plain": [
       "<Figure size 432x288 with 1 Axes>"
      ]
     },
     "metadata": {},
     "output_type": "display_data"
    }
   ],
   "source": [
    "sns.set_style('whitegrid')\n",
    "sns.countplot(x='Output',data=df)"
   ]
  },
  {
   "cell_type": "code",
   "execution_count": 9,
   "metadata": {},
   "outputs": [],
   "source": [
    "from sklearn.model_selection import train_test_split"
   ]
  },
  {
   "cell_type": "code",
   "execution_count": 10,
   "metadata": {},
   "outputs": [
    {
     "data": {
      "text/plain": [
       "0    1\n",
       "1    1\n",
       "2    1\n",
       "3    1\n",
       "4    1\n",
       "Name: Output, dtype: int32"
      ]
     },
     "execution_count": 10,
     "metadata": {},
     "output_type": "execute_result"
    }
   ],
   "source": [
    "y = df.Output\n",
    "y.head()"
   ]
  },
  {
   "cell_type": "code",
   "execution_count": 11,
   "metadata": {},
   "outputs": [
    {
     "data": {
      "text/html": [
       "<div>\n",
       "<style scoped>\n",
       "    .dataframe tbody tr th:only-of-type {\n",
       "        vertical-align: middle;\n",
       "    }\n",
       "\n",
       "    .dataframe tbody tr th {\n",
       "        vertical-align: top;\n",
       "    }\n",
       "\n",
       "    .dataframe thead th {\n",
       "        text-align: right;\n",
       "    }\n",
       "</style>\n",
       "<table border=\"1\" class=\"dataframe\">\n",
       "  <thead>\n",
       "    <tr style=\"text-align: right;\">\n",
       "      <th></th>\n",
       "      <th>area_0</th>\n",
       "      <th>area_1</th>\n",
       "      <th>area_2</th>\n",
       "      <th>area_3</th>\n",
       "      <th>area_4</th>\n",
       "      <th>area_5</th>\n",
       "      <th>area_6</th>\n",
       "      <th>area_7</th>\n",
       "      <th>area_8</th>\n",
       "      <th>area_9</th>\n",
       "      <th>...</th>\n",
       "      <th>area_102</th>\n",
       "      <th>area_103</th>\n",
       "      <th>area_104</th>\n",
       "      <th>area_105</th>\n",
       "      <th>area_106</th>\n",
       "      <th>area_107</th>\n",
       "      <th>area_108</th>\n",
       "      <th>area_109</th>\n",
       "      <th>area_110</th>\n",
       "      <th>area_111</th>\n",
       "    </tr>\n",
       "  </thead>\n",
       "  <tbody>\n",
       "    <tr>\n",
       "      <th>0</th>\n",
       "      <td>42026.13444</td>\n",
       "      <td>0.837992</td>\n",
       "      <td>0.680368</td>\n",
       "      <td>-0.046693</td>\n",
       "      <td>-1.768394</td>\n",
       "      <td>58432.45711</td>\n",
       "      <td>15.559444</td>\n",
       "      <td>2.089228</td>\n",
       "      <td>0.653725</td>\n",
       "      <td>1.005898</td>\n",
       "      <td>...</td>\n",
       "      <td>17.391097</td>\n",
       "      <td>121.265112</td>\n",
       "      <td>13.974210</td>\n",
       "      <td>0.937043</td>\n",
       "      <td>0.035898</td>\n",
       "      <td>2.370000e-06</td>\n",
       "      <td>-0.787742</td>\n",
       "      <td>1.724785</td>\n",
       "      <td>0.086712</td>\n",
       "      <td>0.000062</td>\n",
       "    </tr>\n",
       "    <tr>\n",
       "      <th>1</th>\n",
       "      <td>40953.90720</td>\n",
       "      <td>0.881848</td>\n",
       "      <td>0.596231</td>\n",
       "      <td>-0.469329</td>\n",
       "      <td>-1.440954</td>\n",
       "      <td>52624.47374</td>\n",
       "      <td>15.451862</td>\n",
       "      <td>2.054364</td>\n",
       "      <td>0.549743</td>\n",
       "      <td>1.186299</td>\n",
       "      <td>...</td>\n",
       "      <td>18.240026</td>\n",
       "      <td>90.087976</td>\n",
       "      <td>13.814942</td>\n",
       "      <td>0.767752</td>\n",
       "      <td>0.034853</td>\n",
       "      <td>5.560000e-06</td>\n",
       "      <td>-0.684219</td>\n",
       "      <td>1.451970</td>\n",
       "      <td>0.078986</td>\n",
       "      <td>0.000069</td>\n",
       "    </tr>\n",
       "    <tr>\n",
       "      <th>2</th>\n",
       "      <td>56557.81344</td>\n",
       "      <td>0.962359</td>\n",
       "      <td>0.448852</td>\n",
       "      <td>-0.693169</td>\n",
       "      <td>0.006798</td>\n",
       "      <td>66269.16155</td>\n",
       "      <td>15.502896</td>\n",
       "      <td>2.133265</td>\n",
       "      <td>0.349870</td>\n",
       "      <td>1.010439</td>\n",
       "      <td>...</td>\n",
       "      <td>17.269445</td>\n",
       "      <td>48.388665</td>\n",
       "      <td>13.604552</td>\n",
       "      <td>0.531576</td>\n",
       "      <td>0.027222</td>\n",
       "      <td>-1.460000e-13</td>\n",
       "      <td>-0.664139</td>\n",
       "      <td>1.195714</td>\n",
       "      <td>0.053554</td>\n",
       "      <td>0.000371</td>\n",
       "    </tr>\n",
       "    <tr>\n",
       "      <th>3</th>\n",
       "      <td>39446.13426</td>\n",
       "      <td>0.981931</td>\n",
       "      <td>0.655955</td>\n",
       "      <td>-0.406997</td>\n",
       "      <td>-1.252084</td>\n",
       "      <td>56018.46915</td>\n",
       "      <td>15.036336</td>\n",
       "      <td>2.200908</td>\n",
       "      <td>0.573151</td>\n",
       "      <td>1.164526</td>\n",
       "      <td>...</td>\n",
       "      <td>13.255512</td>\n",
       "      <td>276.967530</td>\n",
       "      <td>13.334357</td>\n",
       "      <td>1.249678</td>\n",
       "      <td>0.066020</td>\n",
       "      <td>-3.910000e-15</td>\n",
       "      <td>-1.273933</td>\n",
       "      <td>2.523611</td>\n",
       "      <td>0.145711</td>\n",
       "      <td>0.000391</td>\n",
       "    </tr>\n",
       "    <tr>\n",
       "      <th>4</th>\n",
       "      <td>34057.74479</td>\n",
       "      <td>0.697319</td>\n",
       "      <td>0.663547</td>\n",
       "      <td>0.195127</td>\n",
       "      <td>-1.751851</td>\n",
       "      <td>45253.55596</td>\n",
       "      <td>15.505998</td>\n",
       "      <td>2.164484</td>\n",
       "      <td>0.638541</td>\n",
       "      <td>0.379985</td>\n",
       "      <td>...</td>\n",
       "      <td>20.416435</td>\n",
       "      <td>87.259274</td>\n",
       "      <td>13.984927</td>\n",
       "      <td>0.733262</td>\n",
       "      <td>0.029526</td>\n",
       "      <td>3.230000e-06</td>\n",
       "      <td>-0.662974</td>\n",
       "      <td>1.396236</td>\n",
       "      <td>0.073232</td>\n",
       "      <td>0.000062</td>\n",
       "    </tr>\n",
       "  </tbody>\n",
       "</table>\n",
       "<p>5 rows × 112 columns</p>\n",
       "</div>"
      ],
      "text/plain": [
       "        area_0    area_1    area_2    area_3    area_4       area_5  \\\n",
       "0  42026.13444  0.837992  0.680368 -0.046693 -1.768394  58432.45711   \n",
       "1  40953.90720  0.881848  0.596231 -0.469329 -1.440954  52624.47374   \n",
       "2  56557.81344  0.962359  0.448852 -0.693169  0.006798  66269.16155   \n",
       "3  39446.13426  0.981931  0.655955 -0.406997 -1.252084  56018.46915   \n",
       "4  34057.74479  0.697319  0.663547  0.195127 -1.751851  45253.55596   \n",
       "\n",
       "      area_6    area_7    area_8    area_9  ...   area_102    area_103  \\\n",
       "0  15.559444  2.089228  0.653725  1.005898  ...  17.391097  121.265112   \n",
       "1  15.451862  2.054364  0.549743  1.186299  ...  18.240026   90.087976   \n",
       "2  15.502896  2.133265  0.349870  1.010439  ...  17.269445   48.388665   \n",
       "3  15.036336  2.200908  0.573151  1.164526  ...  13.255512  276.967530   \n",
       "4  15.505998  2.164484  0.638541  0.379985  ...  20.416435   87.259274   \n",
       "\n",
       "    area_104  area_105  area_106      area_107  area_108  area_109  area_110  \\\n",
       "0  13.974210  0.937043  0.035898  2.370000e-06 -0.787742  1.724785  0.086712   \n",
       "1  13.814942  0.767752  0.034853  5.560000e-06 -0.684219  1.451970  0.078986   \n",
       "2  13.604552  0.531576  0.027222 -1.460000e-13 -0.664139  1.195714  0.053554   \n",
       "3  13.334357  1.249678  0.066020 -3.910000e-15 -1.273933  2.523611  0.145711   \n",
       "4  13.984927  0.733262  0.029526  3.230000e-06 -0.662974  1.396236  0.073232   \n",
       "\n",
       "   area_111  \n",
       "0  0.000062  \n",
       "1  0.000069  \n",
       "2  0.000371  \n",
       "3  0.000391  \n",
       "4  0.000062  \n",
       "\n",
       "[5 rows x 112 columns]"
      ]
     },
     "execution_count": 11,
     "metadata": {},
     "output_type": "execute_result"
    }
   ],
   "source": [
    "X = df.drop(['Output','Label'],axis='columns')\n",
    "X.head()"
   ]
  },
  {
   "cell_type": "code",
   "execution_count": 12,
   "metadata": {},
   "outputs": [],
   "source": [
    "min_max_scaler=MinMaxScaler()\n",
    "X = min_max_scaler.fit_transform(X) \n",
    "# =============================================================================\n",
    "# feature reduction (K-PCA)\n",
    "# =============================================================================\n",
    "transformer = KernelPCA(n_components=56, kernel='linear')\n",
    "X = transformer.fit_transform(X)"
   ]
  },
  {
   "cell_type": "code",
   "execution_count": 13,
   "metadata": {},
   "outputs": [],
   "source": [
    "from sklearn.svm import SVC\n",
    "from sklearn.tree import DecisionTreeClassifier\n",
    "from sklearn.ensemble import RandomForestClassifier\n",
    "from sklearn.model_selection import cross_val_score\n",
    "from sklearn.ensemble import AdaBoostClassifier\n",
    "from sklearn.ensemble import GradientBoostingClassifier"
   ]
  },
  {
   "cell_type": "code",
   "execution_count": 14,
   "metadata": {},
   "outputs": [],
   "source": [
    "# Splitting the dataset into the Training set and Test set\n",
    "from sklearn.model_selection import train_test_split\n",
    "X_train, X_test, y_train, y_test = train_test_split(X, y, test_size = 0.25, random_state = 5)"
   ]
  },
  {
   "cell_type": "code",
   "execution_count": 15,
   "metadata": {},
   "outputs": [],
   "source": [
    "# Feature Scaling\n",
    "from sklearn.preprocessing import StandardScaler\n",
    "sc = StandardScaler()\n",
    "X_train = sc.fit_transform(X_train)\n",
    "X_test = sc.transform(X_test)"
   ]
  },
  {
   "cell_type": "code",
   "execution_count": 16,
   "metadata": {},
   "outputs": [],
   "source": [
    "svm_c_v = cross_val_score(SVC(), X_test, y_test)\n",
    "dtc_c_v = cross_val_score(DecisionTreeClassifier(), X_test, y_test)\n",
    "rfc_c_v = cross_val_score(RandomForestClassifier(), X_test, y_test)\n",
    "adatb_c_v = cross_val_score(AdaBoostClassifier(n_estimators=100, random_state=0), X_test, y_test)\n",
    "gbc_c_v = cross_val_score(GradientBoostingClassifier(random_state=0), X_test, y_test)\n"
   ]
  },
  {
   "cell_type": "code",
   "execution_count": 17,
   "metadata": {},
   "outputs": [
    {
     "data": {
      "text/plain": [
       "array([0.8       , 0.64705882, 0.82352941, 0.76470588, 0.76470588])"
      ]
     },
     "execution_count": 17,
     "metadata": {},
     "output_type": "execute_result"
    }
   ],
   "source": [
    "svm_c_v"
   ]
  },
  {
   "cell_type": "code",
   "execution_count": 18,
   "metadata": {},
   "outputs": [
    {
     "data": {
      "text/plain": [
       "array([0.62857143, 0.55882353, 0.58823529, 0.58823529, 0.41176471])"
      ]
     },
     "execution_count": 18,
     "metadata": {},
     "output_type": "execute_result"
    }
   ],
   "source": [
    "dtc_c_v"
   ]
  },
  {
   "cell_type": "code",
   "execution_count": 19,
   "metadata": {},
   "outputs": [
    {
     "data": {
      "text/plain": [
       "array([0.74285714, 0.70588235, 0.64705882, 0.73529412, 0.76470588])"
      ]
     },
     "execution_count": 19,
     "metadata": {},
     "output_type": "execute_result"
    }
   ],
   "source": [
    "rfc_c_v"
   ]
  },
  {
   "cell_type": "code",
   "execution_count": null,
   "metadata": {},
   "outputs": [],
   "source": []
  },
  {
   "cell_type": "code",
   "execution_count": null,
   "metadata": {},
   "outputs": [],
   "source": []
  },
  {
   "cell_type": "code",
   "execution_count": 20,
   "metadata": {},
   "outputs": [
    {
     "data": {
      "text/plain": [
       "array([0.68571429, 0.79411765, 0.64705882, 0.70588235, 0.67647059])"
      ]
     },
     "execution_count": 20,
     "metadata": {},
     "output_type": "execute_result"
    }
   ],
   "source": [
    "gbc_c_v"
   ]
  },
  {
   "cell_type": "code",
   "execution_count": 21,
   "metadata": {},
   "outputs": [],
   "source": [
    "from sklearn.model_selection import GridSearchCV\n",
    "model_params = {\n",
    "    'svm': {\n",
    "        'model': SVC(gamma='auto'),\n",
    "        'params' : {\n",
    "            'C': [1,10,20],\n",
    "            'kernel': ['rbf','linear'],\n",
    "            'gamma': [0.1, 0.2, 0.3, 0.4, 0.5, 0.6, 0.7, 0.8, 0.9]\n",
    "        }  \n",
    "    },\n",
    "    'random_forest': {\n",
    "        'model': RandomForestClassifier(),\n",
    "        'params' : {\n",
    "            'n_estimators': [1,5,10,60,70,80],\n",
    "            'max_features': ['auto', 'sqrt', 'log2']\n",
    "        }\n",
    "    },\n",
    "    'decision_tree': {\n",
    "        'model': DecisionTreeClassifier(),\n",
    "        'params': {\n",
    "            'criterion': ['gini','entropy']\n",
    "            \n",
    "        }\n",
    "    },\n",
    "    \n",
    "    'adaboost': {\n",
    "        'model': AdaBoostClassifier(),\n",
    "        'params' : {\n",
    "            'n_estimators': [100],\n",
    "            'random_state': [0]\n",
    "        }  \n",
    "    },\n",
    "    \n",
    "    'xgboost': {\n",
    "        'model': GradientBoostingClassifier(),\n",
    "        'params' : {\n",
    "            'random_state': [0]\n",
    "            \n",
    "        }  \n",
    "    }\n",
    "     \n",
    "}"
   ]
  },
  {
   "cell_type": "code",
   "execution_count": 22,
   "metadata": {},
   "outputs": [
    {
     "data": {
      "text/html": [
       "<div>\n",
       "<style scoped>\n",
       "    .dataframe tbody tr th:only-of-type {\n",
       "        vertical-align: middle;\n",
       "    }\n",
       "\n",
       "    .dataframe tbody tr th {\n",
       "        vertical-align: top;\n",
       "    }\n",
       "\n",
       "    .dataframe thead th {\n",
       "        text-align: right;\n",
       "    }\n",
       "</style>\n",
       "<table border=\"1\" class=\"dataframe\">\n",
       "  <thead>\n",
       "    <tr style=\"text-align: right;\">\n",
       "      <th></th>\n",
       "      <th>model</th>\n",
       "      <th>best_score</th>\n",
       "      <th>best_params</th>\n",
       "    </tr>\n",
       "  </thead>\n",
       "  <tbody>\n",
       "    <tr>\n",
       "      <th>0</th>\n",
       "      <td>svm</td>\n",
       "      <td>0.827523</td>\n",
       "      <td>{'C': 10, 'gamma': 0.2, 'kernel': 'rbf'}</td>\n",
       "    </tr>\n",
       "    <tr>\n",
       "      <th>1</th>\n",
       "      <td>random_forest</td>\n",
       "      <td>0.761700</td>\n",
       "      <td>{'max_features': 'sqrt', 'n_estimators': 80}</td>\n",
       "    </tr>\n",
       "    <tr>\n",
       "      <th>2</th>\n",
       "      <td>decision_tree</td>\n",
       "      <td>0.596479</td>\n",
       "      <td>{'criterion': 'entropy'}</td>\n",
       "    </tr>\n",
       "    <tr>\n",
       "      <th>3</th>\n",
       "      <td>adaboost</td>\n",
       "      <td>0.660799</td>\n",
       "      <td>{'n_estimators': 100, 'random_state': 0}</td>\n",
       "    </tr>\n",
       "    <tr>\n",
       "      <th>4</th>\n",
       "      <td>xgboost</td>\n",
       "      <td>0.745578</td>\n",
       "      <td>{'random_state': 0}</td>\n",
       "    </tr>\n",
       "  </tbody>\n",
       "</table>\n",
       "</div>"
      ],
      "text/plain": [
       "           model  best_score                                   best_params\n",
       "0            svm    0.827523      {'C': 10, 'gamma': 0.2, 'kernel': 'rbf'}\n",
       "1  random_forest    0.761700  {'max_features': 'sqrt', 'n_estimators': 80}\n",
       "2  decision_tree    0.596479                      {'criterion': 'entropy'}\n",
       "3       adaboost    0.660799      {'n_estimators': 100, 'random_state': 0}\n",
       "4        xgboost    0.745578                           {'random_state': 0}"
      ]
     },
     "execution_count": 22,
     "metadata": {},
     "output_type": "execute_result"
    }
   ],
   "source": [
    "scores = []\n",
    "\n",
    "for model_name, mp in model_params.items():\n",
    "    clf =  GridSearchCV(mp['model'], mp['params'], cv=5, return_train_score=False)\n",
    "    clf.fit(X,y)\n",
    "    scores.append({\n",
    "        'model': model_name,\n",
    "        'best_score': clf.best_score_,\n",
    "        'best_params': clf.best_params_\n",
    "    })\n",
    "    \n",
    "df = pd.DataFrame(scores,columns=['model','best_score','best_params'])\n",
    "df"
   ]
  },
  {
   "cell_type": "code",
   "execution_count": 23,
   "metadata": {},
   "outputs": [],
   "source": [
    "from sklearn.metrics import confusion_matrix"
   ]
  },
  {
   "cell_type": "code",
   "execution_count": 73,
   "metadata": {},
   "outputs": [
    {
     "data": {
      "text/plain": [
       "0.8245614035087719"
      ]
     },
     "execution_count": 73,
     "metadata": {},
     "output_type": "execute_result"
    }
   ],
   "source": [
    "model = SVC(kernel='rbf',C=10,gamma=0.02)\n",
    "model.fit(X_train,y_train)\n",
    "model.score(X_test, y_test)\n",
    "\n"
   ]
  },
  {
   "cell_type": "code",
   "execution_count": null,
   "metadata": {},
   "outputs": [],
   "source": []
  },
  {
   "cell_type": "code",
   "execution_count": 25,
   "metadata": {},
   "outputs": [
    {
     "data": {
      "text/plain": [
       "array([2, 1, 2, 0, 0, 0, 1, 2, 1, 1, 1, 2, 0, 2, 0, 0, 0, 2, 0, 2, 0, 2,\n",
       "       1, 1, 0, 1, 0, 1, 1, 2, 0, 2, 0, 0, 0, 1, 0, 2, 0, 0, 0, 1, 0, 0,\n",
       "       2, 1, 0, 0, 2, 0, 2, 2, 2, 1, 2, 2, 1, 2, 1, 0, 0, 1, 1, 0, 2, 2,\n",
       "       0, 1, 2, 1, 0, 1, 2, 1, 1, 1, 1, 0, 0, 1, 2, 1, 0, 2, 0, 1, 0, 2,\n",
       "       2, 2, 1, 0, 2, 1, 1, 2, 0, 2, 1, 1, 1, 1, 1, 2, 1, 2, 0, 0, 2, 2,\n",
       "       0, 0, 2, 1, 0, 0, 1, 0, 0, 2, 1, 1, 1, 0, 1, 2, 2, 2, 0, 2, 1, 0,\n",
       "       2, 0, 2, 2, 2, 0, 2, 2, 1, 0, 0, 0, 1, 2, 1, 2, 0, 2, 0, 1, 2, 2,\n",
       "       0, 0, 2, 0, 2, 1, 2, 1, 0, 1, 0, 2, 1, 2, 1, 2, 0])"
      ]
     },
     "execution_count": 25,
     "metadata": {},
     "output_type": "execute_result"
    }
   ],
   "source": [
    "y_predicted = model.predict(X_test)\n",
    "y_predicted"
   ]
  },
  {
   "cell_type": "code",
   "execution_count": 26,
   "metadata": {},
   "outputs": [
    {
     "data": {
      "text/plain": [
       "array([[52,  2,  8],\n",
       "       [ 1, 43,  5],\n",
       "       [ 7,  8, 45]], dtype=int64)"
      ]
     },
     "execution_count": 26,
     "metadata": {},
     "output_type": "execute_result"
    }
   ],
   "source": [
    "cm = confusion_matrix(y_test, y_predicted)\n",
    "cm"
   ]
  },
  {
   "cell_type": "code",
   "execution_count": 27,
   "metadata": {},
   "outputs": [
    {
     "data": {
      "image/png": "[encoded data removed]",
      "text/plain": [
       "<Figure size 576x432 with 1 Axes>"
      ]
     },
     "metadata": {},
     "output_type": "display_data"
    }
   ],
   "source": [
    "from cf_matrix import make_confusion_matrix\n",
    "make_confusion_matrix(cm, figsize=(8,6), cbar=False, title='DWT using SMV Matrix')"
   ]
  },
  {
   "cell_type": "code",
   "execution_count": 28,
   "metadata": {},
   "outputs": [
    {
     "data": {
      "text/plain": [
       "0.783625730994152"
      ]
     },
     "execution_count": 28,
     "metadata": {},
     "output_type": "execute_result"
    }
   ],
   "source": [
    "model1 = RandomForestClassifier(n_jobs=-1,max_features= 'log2' ,n_estimators=150, oob_score = False)\n",
    "model1.fit(X_train,y_train)\n",
    "model1.score(X_test, y_test)"
   ]
  },
  {
   "cell_type": "code",
   "execution_count": 29,
   "metadata": {},
   "outputs": [
    {
     "data": {
      "text/plain": [
       "array([2, 1, 0, 0, 2, 0, 1, 2, 1, 1, 1, 2, 2, 2, 0, 0, 0, 2, 0, 2, 0, 2,\n",
       "       1, 1, 2, 1, 0, 1, 1, 1, 0, 2, 0, 2, 2, 1, 2, 2, 0, 0, 2, 1, 0, 0,\n",
       "       2, 1, 0, 0, 2, 0, 2, 2, 2, 1, 2, 2, 1, 2, 1, 0, 0, 1, 1, 0, 2, 1,\n",
       "       1, 1, 2, 1, 0, 1, 2, 1, 1, 1, 1, 0, 0, 1, 2, 1, 0, 2, 0, 1, 0, 2,\n",
       "       1, 2, 1, 0, 2, 1, 1, 2, 0, 2, 1, 0, 1, 1, 1, 2, 1, 2, 0, 0, 2, 2,\n",
       "       0, 0, 2, 1, 1, 0, 2, 0, 0, 2, 1, 1, 1, 2, 1, 2, 2, 2, 0, 0, 1, 0,\n",
       "       2, 2, 2, 2, 0, 0, 2, 0, 2, 0, 1, 2, 1, 2, 1, 2, 0, 2, 0, 1, 2, 2,\n",
       "       0, 1, 2, 0, 2, 1, 0, 1, 2, 1, 0, 1, 1, 0, 1, 2, 0])"
      ]
     },
     "execution_count": 29,
     "metadata": {},
     "output_type": "execute_result"
    }
   ],
   "source": [
    "y_predicted1 = model1.predict(X_test)\n",
    "y_predicted1"
   ]
  },
  {
   "cell_type": "code",
   "execution_count": 30,
   "metadata": {},
   "outputs": [
    {
     "data": {
      "text/plain": [
       "array([0.83870968, 0.87755102, 0.75      ])"
      ]
     },
     "execution_count": 30,
     "metadata": {},
     "output_type": "execute_result"
    }
   ],
   "source": [
    "from sklearn.metrics import recall_score\n",
    "recall_score(y_test, y_predicted, average=None)"
   ]
  },
  {
   "cell_type": "code",
   "execution_count": 31,
   "metadata": {},
   "outputs": [
    {
     "data": {
      "text/plain": [
       "array([[45,  5, 12],\n",
       "       [ 1, 44,  4],\n",
       "       [ 6,  9, 45]], dtype=int64)"
      ]
     },
     "execution_count": 31,
     "metadata": {},
     "output_type": "execute_result"
    }
   ],
   "source": [
    "cm1 = confusion_matrix(y_test, y_predicted1)\n",
    "cm1"
   ]
  },
  {
   "cell_type": "code",
   "execution_count": 32,
   "metadata": {},
   "outputs": [
    {
     "data": {
      "image/png": "[encoded data removed]",
      "text/plain": [
       "<Figure size 576x432 with 1 Axes>"
      ]
     },
     "metadata": {},
     "output_type": "display_data"
    }
   ],
   "source": [
    "from cf_matrix import make_confusion_matrix\n",
    "make_confusion_matrix(cm1, figsize=(8,6), cbar=False, title='Random Forest')"
   ]
  },
  {
   "cell_type": "code",
   "execution_count": 33,
   "metadata": {},
   "outputs": [
    {
     "data": {
      "text/plain": [
       "DecisionTreeClassifier(ccp_alpha=0.0, class_weight='balanced',\n",
       "                       criterion='entropy', max_depth=None, max_features='auto',\n",
       "                       max_leaf_nodes=None, min_impurity_decrease=0.0,\n",
       "                       min_impurity_split=None, min_samples_leaf=1,\n",
       "                       min_samples_split=2, min_weight_fraction_leaf=0.0,\n",
       "                       presort='deprecated', random_state=15, splitter='best')"
      ]
     },
     "execution_count": 33,
     "metadata": {},
     "output_type": "execute_result"
    }
   ],
   "source": [
    "model2=DecisionTreeClassifier(random_state = 15,criterion=\"entropy\" , max_features = \"auto\", class_weight = \"balanced\",max_depth = None)\n",
    "model2.fit(X_train,y_train)"
   ]
  },
  {
   "cell_type": "code",
   "execution_count": 34,
   "metadata": {},
   "outputs": [
    {
     "data": {
      "text/plain": [
       "array([1, 2, 0, 2, 2, 2, 1, 1, 1, 1, 1, 2, 1, 2, 1, 0, 2, 2, 0, 2, 2, 2,\n",
       "       1, 1, 0, 1, 0, 1, 1, 2, 1, 2, 0, 2, 2, 2, 2, 0, 2, 0, 2, 2, 2, 2,\n",
       "       2, 1, 2, 0, 1, 2, 1, 0, 2, 1, 2, 2, 0, 1, 2, 2, 0, 1, 1, 0, 0, 1,\n",
       "       1, 1, 2, 1, 0, 1, 0, 2, 1, 1, 1, 0, 0, 1, 1, 1, 1, 1, 0, 1, 2, 1,\n",
       "       1, 2, 1, 2, 0, 1, 2, 2, 2, 1, 1, 0, 1, 1, 1, 2, 2, 1, 2, 0, 2, 2,\n",
       "       1, 0, 2, 2, 0, 0, 1, 0, 0, 0, 2, 2, 1, 1, 1, 2, 2, 0, 0, 2, 1, 2,\n",
       "       2, 0, 2, 2, 2, 2, 2, 0, 0, 1, 1, 2, 0, 2, 1, 2, 0, 2, 0, 1, 0, 2,\n",
       "       1, 1, 1, 0, 2, 1, 0, 1, 0, 1, 2, 1, 2, 1, 1, 1, 2])"
      ]
     },
     "execution_count": 34,
     "metadata": {},
     "output_type": "execute_result"
    }
   ],
   "source": [
    "y_predicted2 = model2.predict(X_test)\n",
    "y_predicted2"
   ]
  },
  {
   "cell_type": "code",
   "execution_count": 35,
   "metadata": {},
   "outputs": [
    {
     "data": {
      "text/plain": [
       "array([0.41935484, 0.75510204, 0.58333333])"
      ]
     },
     "execution_count": 35,
     "metadata": {},
     "output_type": "execute_result"
    }
   ],
   "source": [
    "from sklearn.metrics import recall_score\n",
    "recall_score(y_test, y_predicted2, average=None)\n"
   ]
  },
  {
   "cell_type": "code",
   "execution_count": 36,
   "metadata": {},
   "outputs": [
    {
     "data": {
      "text/plain": [
       "array([0.65      , 0.56923077, 0.53030303])"
      ]
     },
     "execution_count": 36,
     "metadata": {},
     "output_type": "execute_result"
    }
   ],
   "source": [
    "from sklearn.metrics import precision_score\n",
    "precision_score(y_test, y_predicted2, average=None)"
   ]
  },
  {
   "cell_type": "code",
   "execution_count": 37,
   "metadata": {},
   "outputs": [
    {
     "data": {
      "text/plain": [
       "array([[26, 14, 22],\n",
       "       [ 3, 37,  9],\n",
       "       [11, 14, 35]], dtype=int64)"
      ]
     },
     "execution_count": 37,
     "metadata": {},
     "output_type": "execute_result"
    }
   ],
   "source": [
    "cm2 = confusion_matrix(y_test, y_predicted2)\n",
    "cm2"
   ]
  },
  {
   "cell_type": "code",
   "execution_count": 38,
   "metadata": {},
   "outputs": [
    {
     "data": {
      "image/png": "[encoded data removed]",
      "text/plain": [
       "<Figure size 576x432 with 1 Axes>"
      ]
     },
     "metadata": {},
     "output_type": "display_data"
    }
   ],
   "source": [
    "from cf_matrix import make_confusion_matrix\n",
    "make_confusion_matrix(cm2, figsize=(8,6), cbar=False, title='Decision Tree')"
   ]
  },
  {
   "cell_type": "markdown",
   "metadata": {},
   "source": []
  },
  {
   "cell_type": "code",
   "execution_count": 39,
   "metadata": {},
   "outputs": [
    {
     "data": {
      "text/plain": [
       "GradientBoostingClassifier(ccp_alpha=0.0, criterion='friedman_mse', init=None,\n",
       "                           learning_rate=0.1, loss='deviance', max_depth=3,\n",
       "                           max_features=None, max_leaf_nodes=None,\n",
       "                           min_impurity_decrease=0.0, min_impurity_split=None,\n",
       "                           min_samples_leaf=1, min_samples_split=2,\n",
       "                           min_weight_fraction_leaf=0.0, n_estimators=90,\n",
       "                           n_iter_no_change=None, presort='deprecated',\n",
       "                           random_state=30, subsample=1.0, tol=0.0001,\n",
       "                           validation_fraction=0.1, verbose=0,\n",
       "                           warm_start=False)"
      ]
     },
     "execution_count": 39,
     "metadata": {},
     "output_type": "execute_result"
    }
   ],
   "source": [
    "model4=GradientBoostingClassifier(random_state=30,n_estimators=90)\n",
    "model4.fit(X_train,y_train)"
   ]
  },
  {
   "cell_type": "code",
   "execution_count": 40,
   "metadata": {},
   "outputs": [
    {
     "data": {
      "text/plain": [
       "array([2, 1, 2, 2, 0, 0, 1, 0, 1, 1, 1, 2, 2, 2, 0, 2, 0, 2, 0, 2, 0, 2,\n",
       "       1, 1, 2, 1, 0, 1, 1, 1, 0, 2, 0, 2, 2, 1, 0, 2, 0, 2, 2, 1, 0, 0,\n",
       "       2, 1, 0, 0, 2, 2, 2, 2, 2, 1, 2, 2, 1, 2, 1, 0, 0, 1, 1, 0, 2, 1,\n",
       "       1, 1, 2, 1, 0, 1, 2, 1, 1, 1, 1, 0, 0, 1, 2, 1, 0, 2, 0, 1, 0, 2,\n",
       "       1, 2, 2, 0, 2, 1, 1, 2, 0, 2, 1, 0, 1, 1, 1, 2, 1, 2, 0, 0, 2, 2,\n",
       "       0, 0, 0, 1, 1, 0, 1, 0, 0, 2, 1, 2, 1, 2, 1, 2, 2, 2, 0, 2, 1, 0,\n",
       "       2, 2, 2, 2, 0, 0, 2, 0, 2, 0, 0, 2, 1, 2, 1, 0, 0, 2, 0, 1, 2, 2,\n",
       "       0, 1, 2, 0, 2, 1, 2, 1, 2, 1, 0, 2, 1, 0, 1, 2, 2])"
      ]
     },
     "execution_count": 40,
     "metadata": {},
     "output_type": "execute_result"
    }
   ],
   "source": [
    "y_predicted3 = model4.predict(X_test)\n",
    "y_predicted3"
   ]
  },
  {
   "cell_type": "code",
   "execution_count": 41,
   "metadata": {},
   "outputs": [
    {
     "data": {
      "text/plain": [
       "array([[44,  4, 14],\n",
       "       [ 1, 43,  5],\n",
       "       [ 5,  8, 47]], dtype=int64)"
      ]
     },
     "execution_count": 41,
     "metadata": {},
     "output_type": "execute_result"
    }
   ],
   "source": [
    "cm3 = confusion_matrix(y_test, y_predicted3)\n",
    "cm3"
   ]
  },
  {
   "cell_type": "code",
   "execution_count": 42,
   "metadata": {
    "scrolled": true
   },
   "outputs": [
    {
     "data": {
      "image/png": "[encoded data removed]",
      "text/plain": [
       "<Figure size 576x432 with 1 Axes>"
      ]
     },
     "metadata": {},
     "output_type": "display_data"
    }
   ],
   "source": [
    "from cf_matrix import make_confusion_matrix\n",
    "make_confusion_matrix(cm3, figsize=(8,6), cbar=False, title='Xgboost')"
   ]
  },
  {
   "cell_type": "code",
   "execution_count": 43,
   "metadata": {},
   "outputs": [
    {
     "data": {
      "text/plain": [
       "0.8187134502923976"
      ]
     },
     "execution_count": 43,
     "metadata": {},
     "output_type": "execute_result"
    }
   ],
   "source": [
    "from sklearn.metrics import recall_score\n",
    "recall_score(y_test, y_predicted, average='micro')"
   ]
  },
  {
   "cell_type": "code",
   "execution_count": 44,
   "metadata": {},
   "outputs": [
    {
     "data": {
      "text/plain": [
       "array([0.78571429, 0.82692308, 0.74603175])"
      ]
     },
     "execution_count": 44,
     "metadata": {},
     "output_type": "execute_result"
    }
   ],
   "source": [
    "from sklearn.metrics import f1_score\n",
    "f1_score(y_test, y_predicted3, average=None)"
   ]
  },
  {
   "cell_type": "code",
   "execution_count": 45,
   "metadata": {},
   "outputs": [
    {
     "data": {
      "text/plain": [
       "0.783625730994152"
      ]
     },
     "execution_count": 45,
     "metadata": {},
     "output_type": "execute_result"
    }
   ],
   "source": [
    "from sklearn.metrics import accuracy_score\n",
    "accuracy_score(y_test, y_predicted1)"
   ]
  }
 ],
 "metadata": {
  "kernelspec": {
   "display_name": "Python 3",
   "language": "python",
   "name": "python3"
  },
  "language_info": {
   "codemirror_mode": {
    "name": "ipython",
    "version": 3
   },
   "file_extension": ".py",
   "mimetype": "text/x-python",
   "name": "python",
   "nbconvert_exporter": "python",
   "pygments_lexer": "ipython3",
   "version": "3.7.6"
  }
 },
 "nbformat": 4,
 "nbformat_minor": 4
}
